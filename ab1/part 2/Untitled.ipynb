{
 "cells": [
  {
   "cell_type": "code",
   "execution_count": null,
   "metadata": {},
   "outputs": [],
   "source": [
    "import matplotlib.pyplot as plt\n",
    "import numpy as np\n",
    "from roboticstoolbox import DHRobot, RevoluteDH\n",
    "from spatialmath.base import transl"
   ]
  },
  {
   "cell_type": "code",
   "execution_count": null,
   "metadata": {},
   "outputs": [],
   "source": [
    "def point_cloud_2d(x, y):\n",
    "    \"\"\"\n",
    "    Plota uma nuvem de pontos 2D.\n",
    "    \"\"\"\n",
    "\n",
    "    # Create a scatter plot\n",
    "    plt.figure(figsize=(8, 6))  # Adjust the figure size as needed\n",
    "    plt.scatter(x, y, s=20, c='b', marker='o', label='Point Cloud')  # Adjust parameters as needed\n",
    "\n",
    "    # Add labels and a legend (customize as needed)\n",
    "    plt.xlabel('X')\n",
    "    plt.ylabel('Y')\n",
    "    plt.title('Point Cloud Visualization')\n",
    "    plt.legend(loc='upper right')\n",
    "\n",
    "    # Show the plot\n",
    "    plt.grid(True)\n",
    "    plt.tight_layout()\n",
    "    plt.show()"
   ]
  },
  {
   "cell_type": "code",
   "execution_count": null,
   "metadata": {},
   "outputs": [],
   "source": [
    "# Intervalos para q1 e q2\n",
    "q1_values = np.linspace(0, np.pi, 100)  # Intervalo de 0 a pi\n",
    "q2_values = np.linspace(-np.pi/2, np.pi, 100)  # Intervalo de -pi/2 a pi\n",
    "\n",
    "# Listas para armazenar as coordenadas X e Y da nuvem de pontos\n",
    "x_points = []\n",
    "y_points = []\n",
    "\n",
    "#Comprimento das juntas\n",
    "L1 = 1 \n",
    "L2 = 2\n",
    "\n",
    "for q1 in q1_values:\n",
    "    for q2 in q2_values:\n",
    "        x = L1 * np.cos(q1) + L2 * np.cos(q1 + q2)\n",
    "        y = L1 * np.sin(q1) + L2 * np.sin(q1 + q2)\n",
    "        \n",
    "        x_points.append(x)\n",
    "        y_points.append(y)\n",
    "\n",
    "point_cloud_2d(x_points, y_points)\n",
    "\n",
    " "
   ]
  }
 ],
 "metadata": {
  "kernelspec": {
   "display_name": "Python 3 (ipykernel)",
   "language": "python",
   "name": "python3"
  },
  "language_info": {
   "codemirror_mode": {
    "name": "ipython",
    "version": 3
   },
   "file_extension": ".py",
   "mimetype": "text/x-python",
   "name": "python",
   "nbconvert_exporter": "python",
   "pygments_lexer": "ipython3",
   "version": "3.8.9"
  }
 },
 "nbformat": 4,
 "nbformat_minor": 2
}
